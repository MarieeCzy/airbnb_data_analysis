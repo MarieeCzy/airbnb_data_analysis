{
 "cells": [
  {
   "cell_type": "markdown",
   "metadata": {},
   "source": [
    "## Airbnb data ingestion "
   ]
  },
  {
   "cell_type": "markdown",
   "metadata": {},
   "source": [
    "Import modules"
   ]
  },
  {
   "cell_type": "code",
   "execution_count": 24,
   "metadata": {},
   "outputs": [],
   "source": [
    "import gzip\n",
    "import urllib.request"
   ]
  },
  {
   "attachments": {},
   "cell_type": "markdown",
   "metadata": {},
   "source": [
    "Get data from source and save in 'data' folder"
   ]
  },
  {
   "cell_type": "code",
   "execution_count": 25,
   "metadata": {},
   "outputs": [
    {
     "name": "stdout",
     "output_type": "stream",
     "text": [
      "Stored 'SOURCE' (dict)\n"
     ]
    }
   ],
   "source": [
    "SOURCE = {'city':'Chicago',\n",
    "          'URL_ADRESS': 'http://data.insideairbnb.com/united-states/il/chicago/2022-09-14/data/listings.csv.gz'}\n",
    "\n",
    "folder_path = 'data'\n",
    "\n",
    "urllib.request.urlretrieve(SOURCE['URL_ADRESS'], folder_path + '/listings.csv.gz')\n",
    "\n",
    "with gzip.open(folder_path + '/listings.csv.gz', 'rb') as f:\n",
    "    file_content = f.read()\n",
    "\n",
    "with open(folder_path + f'/{SOURCE[\"city\"]}'+'.csv', 'wb') as f:\n",
    "    f.write(file_content)\n",
    "    \n",
    "%store SOURCE"
   ]
  }
 ],
 "metadata": {
  "kernelspec": {
   "display_name": "Python 3 (ipykernel)",
   "language": "python",
   "name": "python3"
  },
  "language_info": {
   "codemirror_mode": {
    "name": "ipython",
    "version": 3
   },
   "file_extension": ".py",
   "mimetype": "text/x-python",
   "name": "python",
   "nbconvert_exporter": "python",
   "pygments_lexer": "ipython3",
   "version": "3.10.5"
  },
  "vscode": {
   "interpreter": {
    "hash": "aee8b7b246df8f9039afb4144a1f6fd8d2ca17a180786b69acc140d282b71a49"
   }
  }
 },
 "nbformat": 4,
 "nbformat_minor": 2
}
